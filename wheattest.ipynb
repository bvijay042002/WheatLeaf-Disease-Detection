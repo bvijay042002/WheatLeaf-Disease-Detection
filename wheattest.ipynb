{
 "cells": [
  {
   "cell_type": "code",
   "execution_count": 2,
   "metadata": {},
   "outputs": [
    {
     "name": "stdout",
     "output_type": "stream",
     "text": [
      "WARNING:tensorflow:From c:\\Python311\\Lib\\site-packages\\keras\\src\\losses.py:2976: The name tf.losses.sparse_softmax_cross_entropy is deprecated. Please use tf.compat.v1.losses.sparse_softmax_cross_entropy instead.\n",
      "\n"
     ]
    }
   ],
   "source": [
    "from keras.models import load_model\n",
    "import numpy as np\n",
    "import imutils\n",
    "import cv2\n",
    "from keras.models import load_model\n",
    "from collections import deque\n",
    "import pickle\n",
    "import os\n",
    "model_path = \"final_model_weights.keras\"\n",
    "input = \"GhtS9eaPcKS9BSDi3sS7va.jpg\"\n",
    "label = \"lb.pickle\""
   ]
  },
  {
   "cell_type": "code",
   "execution_count": 3,
   "metadata": {},
   "outputs": [
    {
     "name": "stdout",
     "output_type": "stream",
     "text": [
      "WARNING:tensorflow:From c:\\Python311\\Lib\\site-packages\\keras\\src\\backend.py:1398: The name tf.executing_eagerly_outside_functions is deprecated. Please use tf.compat.v1.executing_eagerly_outside_functions instead.\n",
      "\n",
      "WARNING:tensorflow:From c:\\Python311\\Lib\\site-packages\\keras\\src\\layers\\pooling\\max_pooling2d.py:161: The name tf.nn.max_pool is deprecated. Please use tf.nn.max_pool2d instead.\n",
      "\n",
      "LabelBinarizer()\n",
      "deque([], maxlen=128)\n",
      "< cv2.VideoCapture 000001D404F12930>\n",
      "Class Names: ['Crown and Root Rot' 'Fusarium Head Blight' 'Healthy Wheat']\n"
     ]
    }
   ],
   "source": [
    "# print(\"Loading model..\")\n",
    "moodel = load_model(model_path)\n",
    "# print(moodel)\n",
    "lb = pickle.loads(open(\"label\", \"rb\").read())\n",
    "print(lb)\n",
    "mean = np.array([123.68, 116.779, 103.939][::1], dtype=\"float32\")\n",
    "# print(mean)\n",
    "Q = deque(maxlen=128)\n",
    "print(Q)\n",
    "vs = cv2.VideoCapture(input)\n",
    "print(vs)\n",
    "(W, H) = (None, None)\n",
    "print(\"Class Names:\", lb.classes_)"
   ]
  },
  {
   "cell_type": "code",
   "execution_count": 4,
   "metadata": {},
   "outputs": [
    {
     "name": "stdout",
     "output_type": "stream",
     "text": [
      "hi\n",
      "1/1 [==============================] - 1s 1s/step\n",
      "Predicted Disease Crown and Root Rot\n",
      "hi\n"
     ]
    },
    {
     "ename": "",
     "evalue": "",
     "output_type": "error",
     "traceback": [
      "\u001b[1;31mThe Kernel crashed while executing code in the current cell or a previous cell. \n",
      "\u001b[1;31mPlease review the code in the cell(s) to identify a possible cause of the failure. \n",
      "\u001b[1;31mClick <a href='https://aka.ms/vscodeJupyterKernelCrash'>here</a> for more info. \n",
      "\u001b[1;31mView Jupyter <a href='command:jupyter.viewOutput'>log</a> for further details."
     ]
    }
   ],
   "source": [
    "while True:\n",
    "\t(grabbed, frame) = vs.read()\n",
    "\tprint(\"hi\")\n",
    "\tif not grabbed:\n",
    "\t\tbreak\n",
    "\n",
    "\tif W is None or H is None:\n",
    "\t\t(H, W) = frame.shape[:2]\n",
    "\n",
    "\toutput = frame.copy()\n",
    "\tframe = cv2.cvtColor(frame, cv2.COLOR_BGR2RGB)\n",
    "\tframe = cv2.resize(frame, (224, 224)).astype(\"float32\")\n",
    "\tframe -= mean\n",
    "\n",
    "\tpreds = moodel.predict(np.expand_dims(frame, axis=0))[0]\n",
    "\tQ.append(preds)\n",
    "\n",
    "\tresults = np.array(Q).mean(axis=0)\n",
    "\ti = np.argmax(results)\n",
    "\tlabel = lb.classes_[i]\n",
    "\ttext = \"PREDICTION: {}\".format(label.upper())\n",
    "\tcv2.putText(output, text, (4, 4), cv2.FONT_HERSHEY_SIMPLEX,\n",
    "\t\t0.25, (200,255,155), 2)\n",
    "\tprint(\"Predicted Disease\",label)\n",
    "\tcv2.imshow(\"Output\",output)\n",
    "\t# print(output)\n",
    "\t\n",
    "\tkey = cv2.waitKey(10) & 0xFF\n",
    "\n",
    "\tif key == ord(\"q\"):\n",
    "\t\tbreak\n",
    "vs.release()\n"
   ]
  }
 ],
 "metadata": {
  "kernelspec": {
   "display_name": "Python 3",
   "language": "python",
   "name": "python3"
  },
  "language_info": {
   "codemirror_mode": {
    "name": "ipython",
    "version": 3
   },
   "file_extension": ".py",
   "mimetype": "text/x-python",
   "name": "python",
   "nbconvert_exporter": "python",
   "pygments_lexer": "ipython3",
   "version": "3.11.0"
  }
 },
 "nbformat": 4,
 "nbformat_minor": 2
}
